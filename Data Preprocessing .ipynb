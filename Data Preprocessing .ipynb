{
 "cells": [
  {
   "cell_type": "markdown",
   "metadata": {},
   "source": [
    "# Creating raw setinments data to the tabluer form for batter processing"
   ]
  },
  {
   "cell_type": "code",
   "execution_count": 1,
   "metadata": {},
   "outputs": [],
   "source": [
    "#importing usefull libraies\n",
    "import csv,unicodedata,sys"
   ]
  },
  {
   "cell_type": "code",
   "execution_count": 2,
   "metadata": {},
   "outputs": [],
   "source": [
    "# importing sentences text file to the form of list and also performe some miner pre processing\n",
    "sentences={}\n",
    "with open(\"stanfordSentimentTreebank/datasetSentences.txt\",\"r\") as f:\n",
    "\trd=csv.reader(f,delimiter='\\t')\n",
    "\tcount=0\n",
    "\tfor line in rd:\n",
    "\t\tif count==0:\n",
    "\t\t\tcount=1\n",
    "\t\t\tcontinue\n",
    "\t\tline[1]=line[1].replace('-LRB-','(') # replecing some widly encoded textto there actuly values manully \n",
    "\t\tline[1]=line[1].replace('-RRB-',')')\n",
    "\t\tline[1]=line[1].replace('Â', '')\n",
    "\t\tline[1]=line[1].replace('Ã©', 'e')\n",
    "\t\tline[1]=line[1].replace('Ã¨', 'e')\n",
    "\t\tline[1]=line[1].replace('Ã¯', 'i')\n",
    "\t\tline[1]=line[1].replace('Ã³', 'o')\n",
    "\t\tline[1]=line[1].replace('Ã´', 'o')\n",
    "\t\tline[1]=line[1].replace('Ã¶', 'o')\n",
    "\t\tline[1]=line[1].replace('Ã±', 'n')\n",
    "\t\tline[1]=line[1].replace('Ã¡', 'a')\n",
    "\t\tline[1]=line[1].replace('Ã¢', 'a')\n",
    "\t\tline[1]=line[1].replace('Ã£', 'a')\n",
    "\t\tline[1]=line[1].replace('\\xc3\\x83\\xc2\\xa0', 'a')\n",
    "\t\tline[1]=line[1].replace('Ã¼', 'u')\n",
    "\t\tline[1]=line[1].replace('Ã»', 'u')\n",
    "\t\tline[1]=line[1].replace('Ã§', 'c')\n",
    "\t\tline[1]=line[1].replace('Ã¦', 'ae')\n",
    "\t\tline[1]=line[1].replace('Ã­', 'i')\n",
    "\t\tline[1]=line[1].replace('\\xa0', ' ')\n",
    "\t\tline[1]=line[1].replace('\\xc2', '')\n",
    "\t\tsentences[line[0]]=line[1]"
   ]
  },
  {
   "cell_type": "code",
   "execution_count": 3,
   "metadata": {},
   "outputs": [],
   "source": [
    "# importing data split text and split the values accourding to traing,testing and validation data\n",
    "train={}\n",
    "test={}\n",
    "dev={}\n",
    "sents=[]\n",
    "with open(\"stanfordSentimentTreebank/datasetSplit.txt\",\"r\") as f:\n",
    "\trd=csv.reader(f,delimiter=',')\n",
    "\tcount=0\n",
    "\tfor line in rd:\n",
    "\t\tif count==0:\n",
    "\t\t\tcount=1\n",
    "\t\t\tcontinue\n",
    "\t\tif line[1]=='1':\n",
    "\t\t\ttrain[sentences[line[0]]]=0\n",
    "\t\t\tsents.append(sentences[line[0]])\n",
    "\t\telif line[1]=='2':\n",
    "\t\t\ttest[sentences[line[0]]]=0\n",
    "\t\telif line[1]=='3':\n",
    "\t\t\tdev[sentences[line[0]]]=0"
   ]
  },
  {
   "cell_type": "code",
   "execution_count": 4,
   "metadata": {},
   "outputs": [
    {
     "name": "stdout",
     "output_type": "stream",
     "text": [
      "Wall time: 1min 7s\n"
     ]
    }
   ],
   "source": [
    "%%time\n",
    "# importing dictionery and match there recpective sentences from the dictionery\n",
    "train_sent = train.copy()\n",
    "string=\" \".join(sents)\n",
    "with open(\"stanfordSentimentTreebank/dictionary.txt\",\"r\") as f:\n",
    "\trd=csv.reader(f,delimiter='|')\n",
    "\tfor line in rd:\n",
    "\t\tline[0]=line[0].replace('é','e')\n",
    "\t\tline[0]=line[0].replace('è','e')\n",
    "\t\tline[0]=line[0].replace('ï','i')\n",
    "\t\tline[0]=line[0].replace('í','i')\n",
    "\t\tline[0]=line[0].replace('ó','o')\n",
    "\t\tline[0]=line[0].replace('ô','o')\n",
    "\t\tline[0]=line[0].replace('ö','o')\n",
    "\t\tline[0]=line[0].replace('á','a')\n",
    "\t\tline[0]=line[0].replace('â','a')\n",
    "\t\tline[0]=line[0].replace('ã','a')\n",
    "\t\tline[0]=line[0].replace('à','a')\n",
    "\t\tline[0]=line[0].replace('ü','u')\n",
    "\t\tline[0]=line[0].replace('û','u')\n",
    "\t\tline[0]=line[0].replace('ñ','n')\n",
    "\t\tline[0]=line[0].replace('ç','c')\n",
    "\t\tline[0]=line[0].replace('æ','ae')\n",
    "\t\tline[0]=line[0].replace('\\xa0', ' ')\n",
    "\t\tline[0]=line[0].replace('\\xc2', '')\n",
    "\t\tif line[0] in string:\n",
    "\t\t\ttrain[line[0]]=line[1]\n",
    "\t\tif line[0] in test:\n",
    "\t\t\ttest[line[0]]=line[1]\n",
    "\t\tif line[0] in train_sent:\n",
    "\t\t\ttrain_sent[line[0]]=line[1]\n",
    "\t\tif line[0] in dev:\n",
    "\t\t\tdev[line[0]]=line[1]"
   ]
  },
  {
   "cell_type": "code",
   "execution_count": 5,
   "metadata": {},
   "outputs": [],
   "source": [
    "# importing the sentiment lables and matching with there sentences IDs\n",
    "labels={}\n",
    "with open(\"stanfordSentimentTreebank/sentiment_labels.txt\",\"r\") as f:\n",
    "\trd=csv.reader(f,delimiter='|')\n",
    "\tcount=0\n",
    "\tfor line in rd:\n",
    "\t\tif count==0:\n",
    "\t\t\tcount=1\n",
    "\t\t\tcontinue\n",
    "\t\tlabels[line[0]]=float(line[1])"
   ]
  },
  {
   "cell_type": "code",
   "execution_count": 6,
   "metadata": {},
   "outputs": [],
   "source": [
    "# replcening 0(integer) sentences ID to the string(0) sentences ids\n",
    "for key, value in train.items():\n",
    "    if value == 0:\n",
    "        train[key] = \"0\"\n",
    "for key, value in train_sent.items():\n",
    "    if value == 0:\n",
    "        train_sent[key] = \"0\"\n",
    "for key, value in test.items():\n",
    "    if value == 0:\n",
    "        test[key] = \"0\"\n",
    "for key, value in dev.items():\n",
    "    if value == 0:\n",
    "        dev[key] = \"0\""
   ]
  },
  {
   "cell_type": "code",
   "execution_count": 7,
   "metadata": {},
   "outputs": [],
   "source": [
    "# putting sentiments score accourding to there sentences Ids\n",
    "for key in train:\n",
    "    train[key]=labels[train[key]]\n",
    "for key in train_sent:\n",
    "\ttrain_sent[key]=labels[train_sent[key]]\n",
    "for key in test:\n",
    "\ttest[key]=labels[test[key]]\n",
    "for key in dev:\n",
    "\tdev[key]=labels[dev[key]]"
   ]
  },
  {
   "cell_type": "code",
   "execution_count": 8,
   "metadata": {},
   "outputs": [
    {
     "name": "stdout",
     "output_type": "stream",
     "text": [
      "169477\n",
      "8534\n",
      "2210\n",
      "1100\n"
     ]
    }
   ],
   "source": [
    "print(len(train))\n",
    "print(len(train_sent))\n",
    "print(len(test))\n",
    "print(len(dev))"
   ]
  },
  {
   "cell_type": "code",
   "execution_count": 9,
   "metadata": {},
   "outputs": [],
   "source": [
    "# converting list to the dataframe\n",
    "import pandas as pd\n",
    "train = pd.DataFrame(train.items(),columns=['Sentence', 'Sentiment_Values'])\n",
    "train_sent = pd.DataFrame(train_sent.items(),columns=['Sentence', 'Sentiment_Values'])\n",
    "test = pd.DataFrame(test.items(),columns=['Sentence', 'Sentiment_Values'])\n",
    "dev = pd.DataFrame(dev.items(),columns=['Sentence', 'Sentiment_Values'])"
   ]
  },
  {
   "cell_type": "code",
   "execution_count": 10,
   "metadata": {},
   "outputs": [],
   "source": [
    "df = pd.concat([train,train_sent,test,dev])"
   ]
  },
  {
   "cell_type": "code",
   "execution_count": 11,
   "metadata": {},
   "outputs": [
    {
     "data": {
      "text/html": [
       "<div>\n",
       "<style scoped>\n",
       "    .dataframe tbody tr th:only-of-type {\n",
       "        vertical-align: middle;\n",
       "    }\n",
       "\n",
       "    .dataframe tbody tr th {\n",
       "        vertical-align: top;\n",
       "    }\n",
       "\n",
       "    .dataframe thead th {\n",
       "        text-align: right;\n",
       "    }\n",
       "</style>\n",
       "<table border=\"1\" class=\"dataframe\">\n",
       "  <thead>\n",
       "    <tr style=\"text-align: right;\">\n",
       "      <th></th>\n",
       "      <th>Sentence</th>\n",
       "      <th>Sentiment_Values</th>\n",
       "    </tr>\n",
       "  </thead>\n",
       "  <tbody>\n",
       "    <tr>\n",
       "      <th>0</th>\n",
       "      <td>The Rock is destined to be the 21st Century 's...</td>\n",
       "      <td>0.69444</td>\n",
       "    </tr>\n",
       "    <tr>\n",
       "      <th>1</th>\n",
       "      <td>The gorgeously elaborate continuation of `` Th...</td>\n",
       "      <td>0.83333</td>\n",
       "    </tr>\n",
       "    <tr>\n",
       "      <th>2</th>\n",
       "      <td>Singer\\/composer Bryan Adams contributes a sle...</td>\n",
       "      <td>0.62500</td>\n",
       "    </tr>\n",
       "    <tr>\n",
       "      <th>3</th>\n",
       "      <td>You 'd think by now America would have had eno...</td>\n",
       "      <td>0.50000</td>\n",
       "    </tr>\n",
       "    <tr>\n",
       "      <th>4</th>\n",
       "      <td>Yet the act is still charming here .</td>\n",
       "      <td>0.72222</td>\n",
       "    </tr>\n",
       "    <tr>\n",
       "      <th>...</th>\n",
       "      <td>...</td>\n",
       "      <td>...</td>\n",
       "    </tr>\n",
       "    <tr>\n",
       "      <th>1095</th>\n",
       "      <td>it seems to me the film is about the art of ri...</td>\n",
       "      <td>0.29167</td>\n",
       "    </tr>\n",
       "    <tr>\n",
       "      <th>1096</th>\n",
       "      <td>It 's just disappointingly superficial -- a mo...</td>\n",
       "      <td>0.33333</td>\n",
       "    </tr>\n",
       "    <tr>\n",
       "      <th>1097</th>\n",
       "      <td>The title not only describes its main characte...</td>\n",
       "      <td>0.23611</td>\n",
       "    </tr>\n",
       "    <tr>\n",
       "      <th>1098</th>\n",
       "      <td>Sometimes it feels as if it might have been ma...</td>\n",
       "      <td>0.44444</td>\n",
       "    </tr>\n",
       "    <tr>\n",
       "      <th>1099</th>\n",
       "      <td>Schaeffer has to find some hook on which to ha...</td>\n",
       "      <td>0.27778</td>\n",
       "    </tr>\n",
       "  </tbody>\n",
       "</table>\n",
       "<p>181321 rows × 2 columns</p>\n",
       "</div>"
      ],
      "text/plain": [
       "                                               Sentence  Sentiment_Values\n",
       "0     The Rock is destined to be the 21st Century 's...           0.69444\n",
       "1     The gorgeously elaborate continuation of `` Th...           0.83333\n",
       "2     Singer\\/composer Bryan Adams contributes a sle...           0.62500\n",
       "3     You 'd think by now America would have had eno...           0.50000\n",
       "4                  Yet the act is still charming here .           0.72222\n",
       "...                                                 ...               ...\n",
       "1095  it seems to me the film is about the art of ri...           0.29167\n",
       "1096  It 's just disappointingly superficial -- a mo...           0.33333\n",
       "1097  The title not only describes its main characte...           0.23611\n",
       "1098  Sometimes it feels as if it might have been ma...           0.44444\n",
       "1099  Schaeffer has to find some hook on which to ha...           0.27778\n",
       "\n",
       "[181321 rows x 2 columns]"
      ]
     },
     "execution_count": 11,
     "metadata": {},
     "output_type": "execute_result"
    }
   ],
   "source": [
    "df"
   ]
  },
  {
   "cell_type": "code",
   "execution_count": 12,
   "metadata": {},
   "outputs": [],
   "source": [
    "#converting sentiment values to the float\n",
    "df = df.astype({'Sentiment_Values': 'float64'})"
   ]
  },
  {
   "cell_type": "code",
   "execution_count": 13,
   "metadata": {},
   "outputs": [
    {
     "data": {
      "text/plain": [
       "Sentence             object\n",
       "Sentiment_Values    float64\n",
       "dtype: object"
      ]
     },
     "execution_count": 13,
     "metadata": {},
     "output_type": "execute_result"
    }
   ],
   "source": [
    "df.dtypes"
   ]
  },
  {
   "cell_type": "code",
   "execution_count": 14,
   "metadata": {},
   "outputs": [],
   "source": [
    "# Create a function to provieds sentimnets accourding to there sentiments values. \n",
    "# this are created by instructs provided in a readme file.\n",
    "def getAnalysis(x):\n",
    "    if x<= 0.2:\n",
    "        return 'Very Negative'\n",
    "    elif x<=0.4:\n",
    "        return 'Negative'\n",
    "    elif x<=0.6:\n",
    "        return 'Netural'\n",
    "    elif x<=0.8:\n",
    "        return 'Positive'\n",
    "    elif x<=1:\n",
    "        return 'Very Positive'"
   ]
  },
  {
   "cell_type": "code",
   "execution_count": 15,
   "metadata": {},
   "outputs": [],
   "source": [
    "df['Sentiment'] = df['Sentiment_Values'].apply(getAnalysis)"
   ]
  },
  {
   "cell_type": "code",
   "execution_count": 16,
   "metadata": {},
   "outputs": [],
   "source": [
    "df = df.reset_index(drop=True)"
   ]
  },
  {
   "cell_type": "code",
   "execution_count": 17,
   "metadata": {},
   "outputs": [
    {
     "data": {
      "text/html": [
       "<div>\n",
       "<style scoped>\n",
       "    .dataframe tbody tr th:only-of-type {\n",
       "        vertical-align: middle;\n",
       "    }\n",
       "\n",
       "    .dataframe tbody tr th {\n",
       "        vertical-align: top;\n",
       "    }\n",
       "\n",
       "    .dataframe thead th {\n",
       "        text-align: right;\n",
       "    }\n",
       "</style>\n",
       "<table border=\"1\" class=\"dataframe\">\n",
       "  <thead>\n",
       "    <tr style=\"text-align: right;\">\n",
       "      <th></th>\n",
       "      <th>Sentence</th>\n",
       "      <th>Sentiment_Values</th>\n",
       "      <th>Sentiment</th>\n",
       "    </tr>\n",
       "  </thead>\n",
       "  <tbody>\n",
       "    <tr>\n",
       "      <th>0</th>\n",
       "      <td>The Rock is destined to be the 21st Century 's...</td>\n",
       "      <td>0.69444</td>\n",
       "      <td>Positive</td>\n",
       "    </tr>\n",
       "    <tr>\n",
       "      <th>1</th>\n",
       "      <td>The gorgeously elaborate continuation of `` Th...</td>\n",
       "      <td>0.83333</td>\n",
       "      <td>Very Positive</td>\n",
       "    </tr>\n",
       "    <tr>\n",
       "      <th>2</th>\n",
       "      <td>Singer\\/composer Bryan Adams contributes a sle...</td>\n",
       "      <td>0.62500</td>\n",
       "      <td>Positive</td>\n",
       "    </tr>\n",
       "    <tr>\n",
       "      <th>3</th>\n",
       "      <td>You 'd think by now America would have had eno...</td>\n",
       "      <td>0.50000</td>\n",
       "      <td>Netural</td>\n",
       "    </tr>\n",
       "    <tr>\n",
       "      <th>4</th>\n",
       "      <td>Yet the act is still charming here .</td>\n",
       "      <td>0.72222</td>\n",
       "      <td>Positive</td>\n",
       "    </tr>\n",
       "    <tr>\n",
       "      <th>...</th>\n",
       "      <td>...</td>\n",
       "      <td>...</td>\n",
       "      <td>...</td>\n",
       "    </tr>\n",
       "    <tr>\n",
       "      <th>181316</th>\n",
       "      <td>it seems to me the film is about the art of ri...</td>\n",
       "      <td>0.29167</td>\n",
       "      <td>Negative</td>\n",
       "    </tr>\n",
       "    <tr>\n",
       "      <th>181317</th>\n",
       "      <td>It 's just disappointingly superficial -- a mo...</td>\n",
       "      <td>0.33333</td>\n",
       "      <td>Negative</td>\n",
       "    </tr>\n",
       "    <tr>\n",
       "      <th>181318</th>\n",
       "      <td>The title not only describes its main characte...</td>\n",
       "      <td>0.23611</td>\n",
       "      <td>Negative</td>\n",
       "    </tr>\n",
       "    <tr>\n",
       "      <th>181319</th>\n",
       "      <td>Sometimes it feels as if it might have been ma...</td>\n",
       "      <td>0.44444</td>\n",
       "      <td>Netural</td>\n",
       "    </tr>\n",
       "    <tr>\n",
       "      <th>181320</th>\n",
       "      <td>Schaeffer has to find some hook on which to ha...</td>\n",
       "      <td>0.27778</td>\n",
       "      <td>Negative</td>\n",
       "    </tr>\n",
       "  </tbody>\n",
       "</table>\n",
       "<p>181321 rows × 3 columns</p>\n",
       "</div>"
      ],
      "text/plain": [
       "                                                 Sentence  Sentiment_Values  \\\n",
       "0       The Rock is destined to be the 21st Century 's...           0.69444   \n",
       "1       The gorgeously elaborate continuation of `` Th...           0.83333   \n",
       "2       Singer\\/composer Bryan Adams contributes a sle...           0.62500   \n",
       "3       You 'd think by now America would have had eno...           0.50000   \n",
       "4                    Yet the act is still charming here .           0.72222   \n",
       "...                                                   ...               ...   \n",
       "181316  it seems to me the film is about the art of ri...           0.29167   \n",
       "181317  It 's just disappointingly superficial -- a mo...           0.33333   \n",
       "181318  The title not only describes its main characte...           0.23611   \n",
       "181319  Sometimes it feels as if it might have been ma...           0.44444   \n",
       "181320  Schaeffer has to find some hook on which to ha...           0.27778   \n",
       "\n",
       "            Sentiment  \n",
       "0            Positive  \n",
       "1       Very Positive  \n",
       "2            Positive  \n",
       "3             Netural  \n",
       "4            Positive  \n",
       "...               ...  \n",
       "181316       Negative  \n",
       "181317       Negative  \n",
       "181318       Negative  \n",
       "181319        Netural  \n",
       "181320       Negative  \n",
       "\n",
       "[181321 rows x 3 columns]"
      ]
     },
     "execution_count": 17,
     "metadata": {},
     "output_type": "execute_result"
    }
   ],
   "source": [
    "df"
   ]
  },
  {
   "cell_type": "code",
   "execution_count": 18,
   "metadata": {},
   "outputs": [],
   "source": [
    "# saving finel data in a tabulr form in CSV file.\n",
    "df.to_csv (r'Sentiment_data.csv', index = None, header=True) "
   ]
  }
 ],
 "metadata": {
  "kernelspec": {
   "display_name": "Python 3",
   "language": "python",
   "name": "python3"
  },
  "language_info": {
   "codemirror_mode": {
    "name": "ipython",
    "version": 3
   },
   "file_extension": ".py",
   "mimetype": "text/x-python",
   "name": "python",
   "nbconvert_exporter": "python",
   "pygments_lexer": "ipython3",
   "version": "3.7.7"
  }
 },
 "nbformat": 4,
 "nbformat_minor": 4
}
