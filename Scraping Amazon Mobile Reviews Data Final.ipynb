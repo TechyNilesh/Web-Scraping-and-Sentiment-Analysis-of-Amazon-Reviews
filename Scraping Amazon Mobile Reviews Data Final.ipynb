{
 "cells": [
  {
   "cell_type": "markdown",
   "metadata": {},
   "source": [
    "# Scraping Amazon Mobile reviews Data\n",
    "In this we extracted 1k dataset from 10 diffrentes mobiles."
   ]
  },
  {
   "cell_type": "code",
   "execution_count": 23,
   "metadata": {},
   "outputs": [],
   "source": [
    "#Importing usefull libraries \n",
    "from bs4 import BeautifulSoup as bs\n",
    "import requests\n",
    "import pandas as pd"
   ]
  },
  {
   "cell_type": "code",
   "execution_count": 24,
   "metadata": {},
   "outputs": [],
   "source": [
    "# Addding header file\n",
    "headers = {\n",
    "    'User-Agent':'Mozilla/5.0 (Macintosh; Intel Mac OS X 10_10_3) AppleWebKit/537.36 (KHTML, like Gecko) Chrome/54.0.2840.71 Safari/537.36'\n",
    "}"
   ]
  },
  {
   "cell_type": "code",
   "execution_count": 25,
   "metadata": {},
   "outputs": [],
   "source": [
    "#Listing product items name with there Ids for scraping data\n",
    "product_name = ['Mi 10','Apple iPhone 11 Pro','OPPO Find X2','OnePlus 7T','OnePlus 8 5G','Samsung Galaxy M31s','Redmi Note 9 Pro Max','Vivo V19','Samsung Galaxy S10 Plus','OnePlus 8 Pro']\n",
    "product_id = ['B07WZG2YR3','B07XLS522R','B0869BGNLD','B07DJLVJ5M','B078BNQ318','B07DJCJBBN','B077PWJRFH','B08444WMGT','B07KXC7WQZ','B077PWK5BY']"
   ]
  },
  {
   "cell_type": "code",
   "execution_count": 26,
   "metadata": {},
   "outputs": [],
   "source": [
    "#Url building\n",
    "start = 'https://www.amazon.in/Test-Exclusive-720/product-reviews/'\n",
    "end = '/ref=cm_cr_dp_d_show_all_btm?ie=UTF8&reviewerType=all_reviews'\n",
    "page = '&pageNumber='"
   ]
  },
  {
   "cell_type": "code",
   "execution_count": 27,
   "metadata": {},
   "outputs": [],
   "source": [
    "#Vairables for storing data scarped in Amazon\n",
    "p_id = []\n",
    "mobile = []\n",
    "names = []\n",
    "title = []\n",
    "rating = []\n",
    "text = []"
   ]
  },
  {
   "cell_type": "code",
   "execution_count": 28,
   "metadata": {},
   "outputs": [
    {
     "name": "stdout",
     "output_type": "stream",
     "text": [
      "Wall time: 1min 17s\n"
     ]
    }
   ],
   "source": [
    "%%time\n",
    "for i in range(0,10):\n",
    "    for k in range(0,10):\n",
    "        link = start+product_id[i]+end+str(page)+str(k) #Products link with reviews in diffrents pages \n",
    "        page = requests.get(link,headers=headers) #Request for the page\n",
    "        soup = bs(page.content,'html.parser') #parsing HTML from the downloaded page\n",
    "        Customer_names = soup.find_all('span',class_='a-profile-name')[2:] #extrating customer name from the page\n",
    "        review_title = soup.find_all('a',class_='review-title-content') #Extrating Reviews Title of the page\n",
    "        review_rating = soup.find_all('i',class_='review-rating') #Extrating Reviws ratings \n",
    "        review_text = soup.find_all('span',class_='review-text') #extracting reviws contents(text)\n",
    "        for j in range(0,10): #saving all the values one by one in a dynamic list\n",
    "            mobile.append(product_name[i])\n",
    "            p_id.append(product_id[i])\n",
    "            names.append(Customer_names[j].get_text(strip=True))\n",
    "            title.append(review_title[j].get_text(strip=True))\n",
    "            rating.append(review_rating[j].get_text(strip=True)[:3])\n",
    "            text.append(review_text[j].get_text(strip=True))"
   ]
  },
  {
   "cell_type": "code",
   "execution_count": 29,
   "metadata": {},
   "outputs": [],
   "source": [
    "#combining list to the dictonery\n",
    "amezon_data = {'Product Id':p_id,'Mobile':mobile,'Name':names,\"Title\":title,\"Rating\":rating,\"Text\":text}"
   ]
  },
  {
   "cell_type": "code",
   "execution_count": 30,
   "metadata": {},
   "outputs": [],
   "source": [
    "#converting dicnoery to the dataframe\n",
    "df = pd.DataFrame(amezon_data)"
   ]
  },
  {
   "cell_type": "code",
   "execution_count": 31,
   "metadata": {},
   "outputs": [
    {
     "data": {
      "text/html": [
       "<div>\n",
       "<style scoped>\n",
       "    .dataframe tbody tr th:only-of-type {\n",
       "        vertical-align: middle;\n",
       "    }\n",
       "\n",
       "    .dataframe tbody tr th {\n",
       "        vertical-align: top;\n",
       "    }\n",
       "\n",
       "    .dataframe thead th {\n",
       "        text-align: right;\n",
       "    }\n",
       "</style>\n",
       "<table border=\"1\" class=\"dataframe\">\n",
       "  <thead>\n",
       "    <tr style=\"text-align: right;\">\n",
       "      <th></th>\n",
       "      <th>Product Id</th>\n",
       "      <th>Mobile</th>\n",
       "      <th>Name</th>\n",
       "      <th>Title</th>\n",
       "      <th>Rating</th>\n",
       "      <th>Text</th>\n",
       "    </tr>\n",
       "  </thead>\n",
       "  <tbody>\n",
       "    <tr>\n",
       "      <th>0</th>\n",
       "      <td>B07WZG2YR3</td>\n",
       "      <td>Mi 10</td>\n",
       "      <td>SAIF RAZA</td>\n",
       "      <td>Heating issue</td>\n",
       "      <td>4.0</td>\n",
       "      <td>All are okk but mobile heating problem so high...</td>\n",
       "    </tr>\n",
       "    <tr>\n",
       "      <th>1</th>\n",
       "      <td>B07WZG2YR3</td>\n",
       "      <td>Mi 10</td>\n",
       "      <td>nitin panwar</td>\n",
       "      <td>Good phone (Pros &amp; Cons simplified)</td>\n",
       "      <td>1.0</td>\n",
       "      <td>Hi guys,In general the phone is nice and does ...</td>\n",
       "    </tr>\n",
       "    <tr>\n",
       "      <th>2</th>\n",
       "      <td>B07WZG2YR3</td>\n",
       "      <td>Mi 10</td>\n",
       "      <td>naveen</td>\n",
       "      <td>Worst</td>\n",
       "      <td>4.0</td>\n",
       "      <td>Heating problem.....waste of hard money....go ...</td>\n",
       "    </tr>\n",
       "    <tr>\n",
       "      <th>3</th>\n",
       "      <td>B07WZG2YR3</td>\n",
       "      <td>Mi 10</td>\n",
       "      <td>Pramod Sawant</td>\n",
       "      <td>found inner box seal tampered</td>\n",
       "      <td>4.0</td>\n",
       "      <td>outer packaging was intact, but inner box seal...</td>\n",
       "    </tr>\n",
       "    <tr>\n",
       "      <th>4</th>\n",
       "      <td>B07WZG2YR3</td>\n",
       "      <td>Mi 10</td>\n",
       "      <td>Amazon Customer</td>\n",
       "      <td>So bad</td>\n",
       "      <td>1.0</td>\n",
       "      <td>Ist very bad</td>\n",
       "    </tr>\n",
       "    <tr>\n",
       "      <th>...</th>\n",
       "      <td>...</td>\n",
       "      <td>...</td>\n",
       "      <td>...</td>\n",
       "      <td>...</td>\n",
       "      <td>...</td>\n",
       "      <td>...</td>\n",
       "    </tr>\n",
       "    <tr>\n",
       "      <th>995</th>\n",
       "      <td>B077PWK5BY</td>\n",
       "      <td>OnePlus 8 Pro</td>\n",
       "      <td>Arindam Singh</td>\n",
       "      <td>A great feature rich phone but has Display iss...</td>\n",
       "      <td>1.0</td>\n",
       "      <td>I bought this 12GB+256GB Glacial Green variant...</td>\n",
       "    </tr>\n",
       "    <tr>\n",
       "      <th>996</th>\n",
       "      <td>B077PWK5BY</td>\n",
       "      <td>OnePlus 8 Pro</td>\n",
       "      <td>MEENAKSHI Goswami</td>\n",
       "      <td>Superb</td>\n",
       "      <td>1.0</td>\n",
       "      <td>Superb phone but little long and curves should...</td>\n",
       "    </tr>\n",
       "    <tr>\n",
       "      <th>997</th>\n",
       "      <td>B077PWK5BY</td>\n",
       "      <td>OnePlus 8 Pro</td>\n",
       "      <td>Robin Sahni</td>\n",
       "      <td>Screen issues,Heating issues,Bad front camera</td>\n",
       "      <td>3.0</td>\n",
       "      <td>My oneplus 8 pro has this screen uniformity is...</td>\n",
       "    </tr>\n",
       "    <tr>\n",
       "      <th>998</th>\n",
       "      <td>B077PWK5BY</td>\n",
       "      <td>OnePlus 8 Pro</td>\n",
       "      <td>Rambabu Karn</td>\n",
       "      <td>Worst phone</td>\n",
       "      <td>5.0</td>\n",
       "      <td>Don't waste your money in this... don't go one...</td>\n",
       "    </tr>\n",
       "    <tr>\n",
       "      <th>999</th>\n",
       "      <td>B077PWK5BY</td>\n",
       "      <td>OnePlus 8 Pro</td>\n",
       "      <td>Panindra koripalli</td>\n",
       "      <td>Major know issue</td>\n",
       "      <td>1.0</td>\n",
       "      <td>Mobile display received defective, display goo...</td>\n",
       "    </tr>\n",
       "  </tbody>\n",
       "</table>\n",
       "<p>1000 rows × 6 columns</p>\n",
       "</div>"
      ],
      "text/plain": [
       "     Product Id         Mobile                Name  \\\n",
       "0    B07WZG2YR3          Mi 10           SAIF RAZA   \n",
       "1    B07WZG2YR3          Mi 10        nitin panwar   \n",
       "2    B07WZG2YR3          Mi 10              naveen   \n",
       "3    B07WZG2YR3          Mi 10       Pramod Sawant   \n",
       "4    B07WZG2YR3          Mi 10     Amazon Customer   \n",
       "..          ...            ...                 ...   \n",
       "995  B077PWK5BY  OnePlus 8 Pro       Arindam Singh   \n",
       "996  B077PWK5BY  OnePlus 8 Pro   MEENAKSHI Goswami   \n",
       "997  B077PWK5BY  OnePlus 8 Pro         Robin Sahni   \n",
       "998  B077PWK5BY  OnePlus 8 Pro        Rambabu Karn   \n",
       "999  B077PWK5BY  OnePlus 8 Pro  Panindra koripalli   \n",
       "\n",
       "                                                 Title Rating  \\\n",
       "0                                        Heating issue    4.0   \n",
       "1                  Good phone (Pros & Cons simplified)    1.0   \n",
       "2                                                Worst    4.0   \n",
       "3                        found inner box seal tampered    4.0   \n",
       "4                                               So bad    1.0   \n",
       "..                                                 ...    ...   \n",
       "995  A great feature rich phone but has Display iss...    1.0   \n",
       "996                                             Superb    1.0   \n",
       "997      Screen issues,Heating issues,Bad front camera    3.0   \n",
       "998                                        Worst phone    5.0   \n",
       "999                                   Major know issue    1.0   \n",
       "\n",
       "                                                  Text  \n",
       "0    All are okk but mobile heating problem so high...  \n",
       "1    Hi guys,In general the phone is nice and does ...  \n",
       "2    Heating problem.....waste of hard money....go ...  \n",
       "3    outer packaging was intact, but inner box seal...  \n",
       "4                                         Ist very bad  \n",
       "..                                                 ...  \n",
       "995  I bought this 12GB+256GB Glacial Green variant...  \n",
       "996  Superb phone but little long and curves should...  \n",
       "997  My oneplus 8 pro has this screen uniformity is...  \n",
       "998  Don't waste your money in this... don't go one...  \n",
       "999  Mobile display received defective, display goo...  \n",
       "\n",
       "[1000 rows x 6 columns]"
      ]
     },
     "execution_count": 31,
     "metadata": {},
     "output_type": "execute_result"
    }
   ],
   "source": [
    "df"
   ]
  },
  {
   "cell_type": "code",
   "execution_count": 32,
   "metadata": {},
   "outputs": [],
   "source": [
    "#Saving Extracted data to the csv file\n",
    "df.to_csv(r'Amazon_Mobile_Reviews_Data.csv',index=True)"
   ]
  }
 ],
 "metadata": {
  "kernelspec": {
   "display_name": "Python 3",
   "language": "python",
   "name": "python3"
  },
  "language_info": {
   "codemirror_mode": {
    "name": "ipython",
    "version": 3
   },
   "file_extension": ".py",
   "mimetype": "text/x-python",
   "name": "python",
   "nbconvert_exporter": "python",
   "pygments_lexer": "ipython3",
   "version": "3.7.7"
  }
 },
 "nbformat": 4,
 "nbformat_minor": 4
}
